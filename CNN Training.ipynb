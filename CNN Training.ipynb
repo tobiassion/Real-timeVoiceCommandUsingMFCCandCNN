{
  "cells": [
    {
      "cell_type": "code",
      "source": [
        "# import library\n",
        "import json\n",
        "import numpy as np\n",
        "import tensorflow as tf\n",
        "import matplotlib.pyplot as plt\n",
        "from sklearn.model_selection import train_test_split\n",
        "import random\n",
        "import seaborn as sn"
      ],
      "metadata": {
        "id": "AVeuJHSfQYsc"
      },
      "execution_count": 8,
      "outputs": []
    },
    {
      "cell_type": "code",
      "source": [
        "# connect to gdrive\n",
        "from google.colab import drive\n",
        "drive.mount('/content/gdrive')"
      ],
      "metadata": {
        "id": "F-9Qotsl7oNC",
        "colab": {
          "base_uri": "https://localhost:8080/"
        },
        "outputId": "cd509dc2-8884-4723-ebb7-545fb3df4cf2"
      },
      "execution_count": 9,
      "outputs": [
        {
          "output_type": "stream",
          "name": "stdout",
          "text": [
            "Drive already mounted at /content/gdrive; to attempt to forcibly remount, call drive.mount(\"/content/gdrive\", force_remount=True).\n"
          ]
        }
      ]
    },
    {
      "cell_type": "code",
      "source": [
        "DATA_PATH = \"/content/gdrive/MyDrive/Dataset/go_left_right_stop.json\"\n",
        "SAVED_MODEL_PATH = \"CNN_Journal.h5\"\n",
        "EPOCHS = 100\n",
        "BATCH_SIZE = 16\n",
        "PATIENCE = 10\n",
        "LEARNING_RATE = 0.00001"
      ],
      "metadata": {
        "id": "PDqYy1gDhkXk"
      },
      "execution_count": 13,
      "outputs": []
    },
    {
      "cell_type": "code",
      "source": [
        "def load_data(data_path):\n",
        "    # load dataset from .json file with MFCCs and labels as parameters\n",
        "    with open(data_path, \"r\") as fp:\n",
        "        data = json.load(fp)\n",
        "\n",
        "    X = np.array(data[\"MFCCs\"])\n",
        "    y = np.array(data[\"labels\"])\n",
        "    return X, y"
      ],
      "metadata": {
        "id": "UtcXBIzxiCMG"
      },
      "execution_count": 14,
      "outputs": []
    },
    {
      "cell_type": "code",
      "source": [
        "def prepare_dataset(data_path, test_size=0.2, validation_size=0.20):\n",
        "\n",
        "    # load dataset\n",
        "    X, y = load_data(data_path)\n",
        "\n",
        "    # train, test, validation split\n",
        "    X_train, X_test, y_train, y_test = train_test_split(X, y, test_size=test_size, random_state=1)\n",
        "    X_train, X_validation, y_train, y_validation = train_test_split(X_train, y_train, test_size=validation_size, random_state=1)\n",
        "\n",
        "    X_train = X_train[..., np.newaxis]\n",
        "    X_test = X_test[..., np.newaxis]\n",
        "    X_validation = X_validation[..., np.newaxis]\n",
        "\n",
        "    return X_train, y_train, X_validation, y_validation, X_test, y_test"
      ],
      "metadata": {
        "id": "2MAQgBkHIxAb"
      },
      "execution_count": 15,
      "outputs": []
    },
    {
      "cell_type": "code",
      "source": [
        "def build_model(input_shape, loss=\"sparse_categorical_crossentropy\", learning_rate=0.0001):\n",
        "\n",
        "    model = tf.keras.models.Sequential()\n",
        "\n",
        "    # 1st conv layer\n",
        "    model.add(tf.keras.layers.Conv2D(32, (3, 3), activation='relu', input_shape=input_shape))\n",
        "    model.add(tf.keras.layers.MaxPooling2D((3, 3), strides=(2,2), padding='same'))\n",
        "\n",
        "    # 2nd conv layer\n",
        "    model.add(tf.keras.layers.Conv2D(64, (3, 3), activation='relu'))\n",
        "    model.add(tf.keras.layers.MaxPooling2D((3, 3), strides=(2,2), padding='same'))\n",
        "\n",
        "    # 3rd conv layer\n",
        "    model.add(tf.keras.layers.Conv2D(128, (2, 2), activation='relu',))\n",
        "    model.add(tf.keras.layers.MaxPooling2D((2, 2), strides=(2,2), padding='same'))\n",
        "\n",
        "    # flatten output and feed into dense layer\n",
        "    model.add(tf.keras.layers.Flatten())\n",
        "    model.add(tf.keras.layers.Dense(256, activation='relu'))\n",
        "    tf.keras.layers.Dropout(0.3)\n",
        "\n",
        "    model.add(tf.keras.layers.Dense(128, activation='relu'))\n",
        "    tf.keras.layers.Dropout(0.3)\n",
        "\n",
        "    model.add(tf.keras.layers.Dense(64, activation='relu'))\n",
        "    tf.keras.layers.Dropout(0.3)\n",
        "\n",
        "    # softmax output layer\n",
        "    model.add(tf.keras.layers.Dense(4, activation='softmax'))\n",
        "    optimiser = tf.optimizers.Adam(learning_rate=learning_rate)\n",
        "\n",
        "    # compile model\n",
        "    model.compile(optimizer=optimiser,\n",
        "                  loss=loss,\n",
        "                  metrics=[\"accuracy\"])\n",
        "\n",
        "    # print model parameters on console\n",
        "    model.summary()\n",
        "\n",
        "    return model"
      ],
      "metadata": {
        "id": "GP-BceHViG_S"
      },
      "execution_count": 16,
      "outputs": []
    },
    {
      "cell_type": "code",
      "source": [
        "def train(model, epochs, batch_size, X_train, y_train, X_validation, y_validation, X_test, y_test):\n",
        "    # model fit\n",
        "    history = model.fit(X_train,\n",
        "                        y_train,\n",
        "                        epochs=epochs,\n",
        "                        batch_size=batch_size,\n",
        "                        validation_data=(X_validation, y_validation),\n",
        "                        callbacks=TestCallback(X_test, y_test))\n",
        "    return history"
      ],
      "metadata": {
        "id": "KCjSGvr6iIav"
      },
      "execution_count": 18,
      "outputs": []
    },
    {
      "cell_type": "code",
      "source": [
        "class TestCallback(tf.keras.callbacks.Callback):\n",
        "  # initiate callbacks to evaluate model per epoch using test set data\n",
        "    def __init__(self, X_test, y_test):\n",
        "        self.test_data = X_test, y_test\n",
        "\n",
        "    def on_epoch_end(self, epoch, logs):\n",
        "        X_test, y_test = self.test_data\n",
        "        loss, acc = self.model.evaluate(X_test, y_test, verbose=0)\n",
        "        logs['test_accuracy'] = acc"
      ],
      "metadata": {
        "id": "OrKbQSIaiLi0"
      },
      "execution_count": 19,
      "outputs": []
    },
    {
      "cell_type": "code",
      "source": [
        "def plot_history(history):\n",
        "\n",
        "    fig, axs = plt.subplots(2)\n",
        "\n",
        "    # create accuracy subplot\n",
        "    axs[0].plot(history.history[\"accuracy\"], label=\"accuracy\")\n",
        "    axs[0].plot(history.history['val_accuracy'], label=\"val_accuracy\")\n",
        "    axs[0].set_ylabel(\"Accuracy\")\n",
        "    axs[0].legend(loc=\"lower right\")\n",
        "    axs[0].set_title(\"Accuracy evaluation\")\n",
        "\n",
        "    # create loss subplot\n",
        "    axs[1].plot(history.history[\"loss\"], label=\"loss\")\n",
        "    axs[1].plot(history.history['val_loss'], label=\"val_loss\")\n",
        "    axs[1].set_xlabel(\"Epoch\")\n",
        "    axs[1].set_ylabel(\"Loss\")\n",
        "    axs[1].legend(loc=\"upper right\")\n",
        "    axs[1].set_title(\"Loss evaluation\")\n",
        "\n",
        "    plt.show()"
      ],
      "metadata": {
        "id": "t_KpuHE5iNCJ"
      },
      "execution_count": 20,
      "outputs": []
    },
    {
      "cell_type": "code",
      "source": [
        "def main():\n",
        "    # generate train, validation and test sets\n",
        "    X_train, y_train, X_validation, y_validation, X_test, y_test = prepare_dataset(DATA_PATH)\n",
        "    \n",
        "    # create network\n",
        "    input_shape = (X_train.shape[1], X_train.shape[2], 1)\n",
        "    model = build_model(input_shape, learning_rate=LEARNING_RATE)\n",
        "\n",
        "    # train network\n",
        "    history = train(model, EPOCHS, BATCH_SIZE, X_train, y_train, X_validation, y_validation, X_test, y_test)\n",
        "\n",
        "    # plot accuracy/loss for training/validation set as a function of the epochs\n",
        "    plot_history(history)\n",
        "\n",
        "    # evaluate network on test set\n",
        "    test_loss, test_acc = model.evaluate(X_test, y_test)\n",
        "    print(\"\\nTest loss: {}, test accuracy: {}\".format(test_loss, 100*test_acc))\n",
        "\n",
        "    print(input_shape)\n",
        "    # save model\n",
        "    model.save(SAVED_MODEL_PATH)\n",
        "    \n",
        "    y_predicted = model.predict(X_test)\n",
        "    y_predicted_labels = [np.argmax(i) for i in y_predicted]\n",
        "    cm = tf.math.confusion_matrix(labels=y_test, predictions=y_predicted_labels)\n",
        "    \n",
        "    plt.figure(figsize = (10,7))\n",
        "    sn.heatmap(cm, cmap='Greys', annot=True, fmt='d')\n",
        "    plt.title('Confusion Matrix') \n",
        "    plt.xlabel('Predicted')\n",
        "    plt.ylabel('Truth')"
      ],
      "metadata": {
        "id": "wByiGvx68Bam"
      },
      "execution_count": 21,
      "outputs": []
    },
    {
      "cell_type": "code",
      "source": [
        "if __name__ == \"__main__\":\n",
        "    main()"
      ],
      "metadata": {
        "colab": {
          "base_uri": "https://localhost:8080/",
          "height": 1000
        },
        "id": "2m0Gch4RH9-U",
        "outputId": "6f892505-6e8e-46e8-d906-2a8bdd71fd65"
      },
      "execution_count": 22,
      "outputs": [
        {
          "output_type": "stream",
          "name": "stdout",
          "text": [
            "Model: \"sequential\"\n",
            "_________________________________________________________________\n",
            " Layer (type)                Output Shape              Param #   \n",
            "=================================================================\n",
            " conv2d (Conv2D)             (None, 42, 11, 32)        320       \n",
            "                                                                 \n",
            " max_pooling2d (MaxPooling2D  (None, 21, 6, 32)        0         \n",
            " )                                                               \n",
            "                                                                 \n",
            " conv2d_1 (Conv2D)           (None, 19, 4, 64)         18496     \n",
            "                                                                 \n",
            " max_pooling2d_1 (MaxPooling  (None, 10, 2, 64)        0         \n",
            " 2D)                                                             \n",
            "                                                                 \n",
            " conv2d_2 (Conv2D)           (None, 9, 1, 128)         32896     \n",
            "                                                                 \n",
            " max_pooling2d_2 (MaxPooling  (None, 5, 1, 128)        0         \n",
            " 2D)                                                             \n",
            "                                                                 \n",
            " flatten (Flatten)           (None, 640)               0         \n",
            "                                                                 \n",
            " dense (Dense)               (None, 256)               164096    \n",
            "                                                                 \n",
            " dense_1 (Dense)             (None, 128)               32896     \n",
            "                                                                 \n",
            " dense_2 (Dense)             (None, 64)                8256      \n",
            "                                                                 \n",
            " dense_3 (Dense)             (None, 4)                 260       \n",
            "                                                                 \n",
            "=================================================================\n",
            "Total params: 257,220\n",
            "Trainable params: 257,220\n",
            "Non-trainable params: 0\n",
            "_________________________________________________________________\n",
            "Epoch 1/100\n",
            "560/560 [==============================] - 14s 7ms/step - loss: 1.3624 - accuracy: 0.5230 - val_loss: 0.8123 - val_accuracy: 0.6950 - test_accuracy: 0.6724\n",
            "Epoch 2/100\n",
            "560/560 [==============================] - 5s 8ms/step - loss: 0.7060 - accuracy: 0.7421 - val_loss: 0.6224 - val_accuracy: 0.7736 - test_accuracy: 0.7592\n",
            "Epoch 3/100\n",
            "560/560 [==============================] - 4s 7ms/step - loss: 0.5387 - accuracy: 0.8062 - val_loss: 0.4952 - val_accuracy: 0.8272 - test_accuracy: 0.8110\n",
            "Epoch 4/100\n",
            "560/560 [==============================] - 4s 7ms/step - loss: 0.4414 - accuracy: 0.8424 - val_loss: 0.4448 - val_accuracy: 0.8406 - test_accuracy: 0.8353\n",
            "Epoch 5/100\n",
            "560/560 [==============================] - 4s 8ms/step - loss: 0.3817 - accuracy: 0.8630 - val_loss: 0.3739 - val_accuracy: 0.8624 - test_accuracy: 0.8592\n",
            "Epoch 6/100\n",
            "560/560 [==============================] - 4s 7ms/step - loss: 0.3328 - accuracy: 0.8831 - val_loss: 0.3329 - val_accuracy: 0.8741 - test_accuracy: 0.8810\n",
            "Epoch 7/100\n",
            "560/560 [==============================] - 4s 7ms/step - loss: 0.2923 - accuracy: 0.8995 - val_loss: 0.3082 - val_accuracy: 0.8816 - test_accuracy: 0.8921\n",
            "Epoch 8/100\n",
            "560/560 [==============================] - 3s 6ms/step - loss: 0.2614 - accuracy: 0.9101 - val_loss: 0.2960 - val_accuracy: 0.8892 - test_accuracy: 0.8946\n",
            "Epoch 9/100\n",
            "560/560 [==============================] - 5s 8ms/step - loss: 0.2368 - accuracy: 0.9196 - val_loss: 0.2715 - val_accuracy: 0.8977 - test_accuracy: 0.9068\n",
            "Epoch 10/100\n",
            "560/560 [==============================] - 3s 6ms/step - loss: 0.2137 - accuracy: 0.9281 - val_loss: 0.2629 - val_accuracy: 0.9017 - test_accuracy: 0.9118\n",
            "Epoch 11/100\n",
            "560/560 [==============================] - 4s 7ms/step - loss: 0.1959 - accuracy: 0.9343 - val_loss: 0.2418 - val_accuracy: 0.9058 - test_accuracy: 0.9135\n",
            "Epoch 12/100\n",
            "560/560 [==============================] - 4s 6ms/step - loss: 0.1813 - accuracy: 0.9389 - val_loss: 0.2311 - val_accuracy: 0.9165 - test_accuracy: 0.9185\n",
            "Epoch 13/100\n",
            "560/560 [==============================] - 4s 7ms/step - loss: 0.1656 - accuracy: 0.9442 - val_loss: 0.2220 - val_accuracy: 0.9169 - test_accuracy: 0.9253\n",
            "Epoch 14/100\n",
            "560/560 [==============================] - 3s 6ms/step - loss: 0.1530 - accuracy: 0.9520 - val_loss: 0.2119 - val_accuracy: 0.9209 - test_accuracy: 0.9232\n",
            "Epoch 15/100\n",
            "560/560 [==============================] - 4s 7ms/step - loss: 0.1445 - accuracy: 0.9528 - val_loss: 0.2075 - val_accuracy: 0.9236 - test_accuracy: 0.9303\n",
            "Epoch 16/100\n",
            "560/560 [==============================] - 4s 8ms/step - loss: 0.1338 - accuracy: 0.9574 - val_loss: 0.1947 - val_accuracy: 0.9299 - test_accuracy: 0.9264\n",
            "Epoch 17/100\n",
            "560/560 [==============================] - 4s 7ms/step - loss: 0.1228 - accuracy: 0.9609 - val_loss: 0.1927 - val_accuracy: 0.9303 - test_accuracy: 0.9328\n",
            "Epoch 18/100\n",
            "560/560 [==============================] - 4s 7ms/step - loss: 0.1182 - accuracy: 0.9630 - val_loss: 0.1912 - val_accuracy: 0.9317 - test_accuracy: 0.9357\n",
            "Epoch 19/100\n",
            "560/560 [==============================] - 4s 6ms/step - loss: 0.1099 - accuracy: 0.9647 - val_loss: 0.1897 - val_accuracy: 0.9339 - test_accuracy: 0.9368\n",
            "Epoch 20/100\n",
            "560/560 [==============================] - 6s 10ms/step - loss: 0.1036 - accuracy: 0.9689 - val_loss: 0.1838 - val_accuracy: 0.9361 - test_accuracy: 0.9339\n",
            "Epoch 21/100\n",
            "560/560 [==============================] - 4s 7ms/step - loss: 0.0988 - accuracy: 0.9706 - val_loss: 0.1772 - val_accuracy: 0.9357 - test_accuracy: 0.9418\n",
            "Epoch 22/100\n",
            "560/560 [==============================] - 3s 6ms/step - loss: 0.0913 - accuracy: 0.9736 - val_loss: 0.1791 - val_accuracy: 0.9366 - test_accuracy: 0.9371\n",
            "Epoch 23/100\n",
            "560/560 [==============================] - 4s 7ms/step - loss: 0.0857 - accuracy: 0.9749 - val_loss: 0.1757 - val_accuracy: 0.9388 - test_accuracy: 0.9436\n",
            "Epoch 24/100\n",
            "560/560 [==============================] - 5s 9ms/step - loss: 0.0800 - accuracy: 0.9769 - val_loss: 0.1768 - val_accuracy: 0.9357 - test_accuracy: 0.9382\n",
            "Epoch 25/100\n",
            "560/560 [==============================] - 4s 7ms/step - loss: 0.0762 - accuracy: 0.9786 - val_loss: 0.1744 - val_accuracy: 0.9419 - test_accuracy: 0.9418\n",
            "Epoch 26/100\n",
            "560/560 [==============================] - 4s 7ms/step - loss: 0.0722 - accuracy: 0.9807 - val_loss: 0.1700 - val_accuracy: 0.9388 - test_accuracy: 0.9439\n",
            "Epoch 27/100\n",
            "560/560 [==============================] - 5s 8ms/step - loss: 0.0690 - accuracy: 0.9810 - val_loss: 0.1596 - val_accuracy: 0.9477 - test_accuracy: 0.9468\n",
            "Epoch 28/100\n",
            "560/560 [==============================] - 4s 7ms/step - loss: 0.0639 - accuracy: 0.9829 - val_loss: 0.1638 - val_accuracy: 0.9437 - test_accuracy: 0.9436\n",
            "Epoch 29/100\n",
            "560/560 [==============================] - 4s 6ms/step - loss: 0.0643 - accuracy: 0.9813 - val_loss: 0.1585 - val_accuracy: 0.9455 - test_accuracy: 0.9436\n",
            "Epoch 30/100\n",
            "560/560 [==============================] - 4s 7ms/step - loss: 0.0591 - accuracy: 0.9847 - val_loss: 0.1541 - val_accuracy: 0.9509 - test_accuracy: 0.9457\n",
            "Epoch 31/100\n",
            "560/560 [==============================] - 4s 7ms/step - loss: 0.0554 - accuracy: 0.9851 - val_loss: 0.1625 - val_accuracy: 0.9486 - test_accuracy: 0.9457\n",
            "Epoch 32/100\n",
            "560/560 [==============================] - 3s 6ms/step - loss: 0.0521 - accuracy: 0.9867 - val_loss: 0.1581 - val_accuracy: 0.9495 - test_accuracy: 0.9475\n",
            "Epoch 33/100\n",
            "560/560 [==============================] - 4s 7ms/step - loss: 0.0497 - accuracy: 0.9877 - val_loss: 0.1501 - val_accuracy: 0.9536 - test_accuracy: 0.9521\n",
            "Epoch 34/100\n",
            "560/560 [==============================] - 5s 8ms/step - loss: 0.0482 - accuracy: 0.9878 - val_loss: 0.1514 - val_accuracy: 0.9509 - test_accuracy: 0.9511\n",
            "Epoch 35/100\n",
            "560/560 [==============================] - 4s 7ms/step - loss: 0.0437 - accuracy: 0.9899 - val_loss: 0.1721 - val_accuracy: 0.9402 - test_accuracy: 0.9439\n",
            "Epoch 36/100\n",
            "560/560 [==============================] - 4s 7ms/step - loss: 0.0417 - accuracy: 0.9905 - val_loss: 0.1534 - val_accuracy: 0.9500 - test_accuracy: 0.9496\n",
            "Epoch 37/100\n",
            "560/560 [==============================] - 4s 8ms/step - loss: 0.0415 - accuracy: 0.9898 - val_loss: 0.1479 - val_accuracy: 0.9522 - test_accuracy: 0.9500\n",
            "Epoch 38/100\n",
            "560/560 [==============================] - 4s 7ms/step - loss: 0.0373 - accuracy: 0.9913 - val_loss: 0.1476 - val_accuracy: 0.9540 - test_accuracy: 0.9525\n",
            "Epoch 39/100\n",
            "560/560 [==============================] - 4s 6ms/step - loss: 0.0365 - accuracy: 0.9911 - val_loss: 0.1553 - val_accuracy: 0.9464 - test_accuracy: 0.9536\n",
            "Epoch 40/100\n",
            "560/560 [==============================] - 4s 7ms/step - loss: 0.0344 - accuracy: 0.9920 - val_loss: 0.1410 - val_accuracy: 0.9527 - test_accuracy: 0.9543\n",
            "Epoch 41/100\n",
            "560/560 [==============================] - 4s 7ms/step - loss: 0.0318 - accuracy: 0.9933 - val_loss: 0.1505 - val_accuracy: 0.9451 - test_accuracy: 0.9525\n",
            "Epoch 42/100\n",
            "560/560 [==============================] - 4s 7ms/step - loss: 0.0314 - accuracy: 0.9935 - val_loss: 0.1440 - val_accuracy: 0.9544 - test_accuracy: 0.9536\n",
            "Epoch 43/100\n",
            "560/560 [==============================] - 4s 7ms/step - loss: 0.0295 - accuracy: 0.9929 - val_loss: 0.1412 - val_accuracy: 0.9531 - test_accuracy: 0.9550\n",
            "Epoch 44/100\n",
            "560/560 [==============================] - 4s 8ms/step - loss: 0.0279 - accuracy: 0.9942 - val_loss: 0.1510 - val_accuracy: 0.9509 - test_accuracy: 0.9543\n",
            "Epoch 45/100\n",
            "560/560 [==============================] - 4s 6ms/step - loss: 0.0251 - accuracy: 0.9951 - val_loss: 0.1406 - val_accuracy: 0.9518 - test_accuracy: 0.9546\n",
            "Epoch 46/100\n",
            "560/560 [==============================] - 3s 6ms/step - loss: 0.0247 - accuracy: 0.9949 - val_loss: 0.1477 - val_accuracy: 0.9522 - test_accuracy: 0.9532\n",
            "Epoch 47/100\n",
            "560/560 [==============================] - 3s 6ms/step - loss: 0.0240 - accuracy: 0.9942 - val_loss: 0.1521 - val_accuracy: 0.9491 - test_accuracy: 0.9532\n",
            "Epoch 48/100\n",
            "560/560 [==============================] - 4s 8ms/step - loss: 0.0227 - accuracy: 0.9953 - val_loss: 0.1495 - val_accuracy: 0.9495 - test_accuracy: 0.9550\n",
            "Epoch 49/100\n",
            "560/560 [==============================] - 4s 6ms/step - loss: 0.0221 - accuracy: 0.9955 - val_loss: 0.1467 - val_accuracy: 0.9536 - test_accuracy: 0.9553\n",
            "Epoch 50/100\n",
            "560/560 [==============================] - 3s 6ms/step - loss: 0.0210 - accuracy: 0.9951 - val_loss: 0.1484 - val_accuracy: 0.9558 - test_accuracy: 0.9543\n",
            "Epoch 51/100\n",
            "560/560 [==============================] - 4s 7ms/step - loss: 0.0188 - accuracy: 0.9964 - val_loss: 0.1465 - val_accuracy: 0.9527 - test_accuracy: 0.9553\n",
            "Epoch 52/100\n",
            "560/560 [==============================] - 4s 8ms/step - loss: 0.0174 - accuracy: 0.9973 - val_loss: 0.1384 - val_accuracy: 0.9585 - test_accuracy: 0.9553\n",
            "Epoch 53/100\n",
            "560/560 [==============================] - 3s 6ms/step - loss: 0.0172 - accuracy: 0.9969 - val_loss: 0.1462 - val_accuracy: 0.9518 - test_accuracy: 0.9564\n",
            "Epoch 54/100\n",
            "560/560 [==============================] - 3s 6ms/step - loss: 0.0160 - accuracy: 0.9973 - val_loss: 0.1449 - val_accuracy: 0.9558 - test_accuracy: 0.9582\n",
            "Epoch 55/100\n",
            "560/560 [==============================] - 5s 8ms/step - loss: 0.0158 - accuracy: 0.9970 - val_loss: 0.1444 - val_accuracy: 0.9536 - test_accuracy: 0.9593\n",
            "Epoch 56/100\n",
            "560/560 [==============================] - 4s 7ms/step - loss: 0.0152 - accuracy: 0.9977 - val_loss: 0.1447 - val_accuracy: 0.9518 - test_accuracy: 0.9557\n",
            "Epoch 57/100\n",
            "560/560 [==============================] - 3s 6ms/step - loss: 0.0142 - accuracy: 0.9977 - val_loss: 0.1438 - val_accuracy: 0.9544 - test_accuracy: 0.9571\n",
            "Epoch 58/100\n",
            "560/560 [==============================] - 4s 7ms/step - loss: 0.0135 - accuracy: 0.9974 - val_loss: 0.1378 - val_accuracy: 0.9567 - test_accuracy: 0.9593\n",
            "Epoch 59/100\n",
            "560/560 [==============================] - 4s 7ms/step - loss: 0.0125 - accuracy: 0.9983 - val_loss: 0.1528 - val_accuracy: 0.9567 - test_accuracy: 0.9539\n",
            "Epoch 60/100\n",
            "560/560 [==============================] - 4s 6ms/step - loss: 0.0123 - accuracy: 0.9985 - val_loss: 0.1379 - val_accuracy: 0.9594 - test_accuracy: 0.9607\n",
            "Epoch 61/100\n",
            "560/560 [==============================] - 4s 7ms/step - loss: 0.0119 - accuracy: 0.9983 - val_loss: 0.1505 - val_accuracy: 0.9571 - test_accuracy: 0.9582\n",
            "Epoch 62/100\n",
            "560/560 [==============================] - 4s 8ms/step - loss: 0.0111 - accuracy: 0.9983 - val_loss: 0.1510 - val_accuracy: 0.9553 - test_accuracy: 0.9578\n",
            "Epoch 63/100\n",
            "560/560 [==============================] - 4s 7ms/step - loss: 0.0105 - accuracy: 0.9985 - val_loss: 0.1518 - val_accuracy: 0.9540 - test_accuracy: 0.9600\n",
            "Epoch 64/100\n",
            "560/560 [==============================] - 3s 6ms/step - loss: 0.0100 - accuracy: 0.9988 - val_loss: 0.1462 - val_accuracy: 0.9567 - test_accuracy: 0.9596\n",
            "Epoch 65/100\n",
            "560/560 [==============================] - 4s 7ms/step - loss: 0.0101 - accuracy: 0.9984 - val_loss: 0.1481 - val_accuracy: 0.9562 - test_accuracy: 0.9603\n",
            "Epoch 66/100\n",
            "560/560 [==============================] - 4s 7ms/step - loss: 0.0088 - accuracy: 0.9990 - val_loss: 0.1491 - val_accuracy: 0.9558 - test_accuracy: 0.9582\n",
            "Epoch 67/100\n",
            "560/560 [==============================] - 4s 7ms/step - loss: 0.0091 - accuracy: 0.9991 - val_loss: 0.1486 - val_accuracy: 0.9571 - test_accuracy: 0.9593\n",
            "Epoch 68/100\n",
            "560/560 [==============================] - 3s 6ms/step - loss: 0.0072 - accuracy: 0.9993 - val_loss: 0.1558 - val_accuracy: 0.9544 - test_accuracy: 0.9596\n",
            "Epoch 69/100\n",
            "560/560 [==============================] - 5s 8ms/step - loss: 0.0079 - accuracy: 0.9992 - val_loss: 0.1480 - val_accuracy: 0.9562 - test_accuracy: 0.9593\n",
            "Epoch 70/100\n",
            "560/560 [==============================] - 4s 7ms/step - loss: 0.0083 - accuracy: 0.9985 - val_loss: 0.1542 - val_accuracy: 0.9567 - test_accuracy: 0.9568\n",
            "Epoch 71/100\n",
            "560/560 [==============================] - 4s 7ms/step - loss: 0.0076 - accuracy: 0.9996 - val_loss: 0.1482 - val_accuracy: 0.9598 - test_accuracy: 0.9589\n",
            "Epoch 72/100\n",
            "560/560 [==============================] - 4s 7ms/step - loss: 0.0062 - accuracy: 0.9993 - val_loss: 0.1510 - val_accuracy: 0.9567 - test_accuracy: 0.9621\n",
            "Epoch 73/100\n",
            "560/560 [==============================] - 4s 8ms/step - loss: 0.0068 - accuracy: 0.9992 - val_loss: 0.1547 - val_accuracy: 0.9562 - test_accuracy: 0.9578\n",
            "Epoch 74/100\n",
            "560/560 [==============================] - 4s 7ms/step - loss: 0.0070 - accuracy: 0.9993 - val_loss: 0.1536 - val_accuracy: 0.9562 - test_accuracy: 0.9582\n",
            "Epoch 75/100\n",
            "560/560 [==============================] - 4s 8ms/step - loss: 0.0068 - accuracy: 0.9992 - val_loss: 0.1492 - val_accuracy: 0.9625 - test_accuracy: 0.9611\n",
            "Epoch 76/100\n",
            "560/560 [==============================] - 5s 8ms/step - loss: 0.0060 - accuracy: 0.9989 - val_loss: 0.1557 - val_accuracy: 0.9571 - test_accuracy: 0.9571\n",
            "Epoch 77/100\n",
            "560/560 [==============================] - 4s 7ms/step - loss: 0.0057 - accuracy: 0.9992 - val_loss: 0.1561 - val_accuracy: 0.9585 - test_accuracy: 0.9564\n",
            "Epoch 78/100\n",
            "560/560 [==============================] - 4s 7ms/step - loss: 0.0060 - accuracy: 0.9991 - val_loss: 0.1484 - val_accuracy: 0.9589 - test_accuracy: 0.9607\n",
            "Epoch 79/100\n",
            "560/560 [==============================] - 4s 8ms/step - loss: 0.0051 - accuracy: 0.9991 - val_loss: 0.1814 - val_accuracy: 0.9504 - test_accuracy: 0.9521\n",
            "Epoch 80/100\n",
            "560/560 [==============================] - 4s 6ms/step - loss: 0.0057 - accuracy: 0.9991 - val_loss: 0.1470 - val_accuracy: 0.9603 - test_accuracy: 0.9607\n",
            "Epoch 81/100\n",
            "560/560 [==============================] - 3s 6ms/step - loss: 0.0050 - accuracy: 0.9996 - val_loss: 0.1748 - val_accuracy: 0.9553 - test_accuracy: 0.9564\n",
            "Epoch 82/100\n",
            "560/560 [==============================] - 4s 6ms/step - loss: 0.0047 - accuracy: 0.9996 - val_loss: 0.1493 - val_accuracy: 0.9603 - test_accuracy: 0.9593\n",
            "Epoch 83/100\n",
            "560/560 [==============================] - 4s 8ms/step - loss: 0.0052 - accuracy: 0.9990 - val_loss: 0.1595 - val_accuracy: 0.9598 - test_accuracy: 0.9589\n",
            "Epoch 84/100\n",
            "560/560 [==============================] - 4s 7ms/step - loss: 0.0047 - accuracy: 0.9993 - val_loss: 0.1689 - val_accuracy: 0.9567 - test_accuracy: 0.9593\n",
            "Epoch 85/100\n",
            "560/560 [==============================] - 4s 7ms/step - loss: 0.0051 - accuracy: 0.9989 - val_loss: 0.1978 - val_accuracy: 0.9504 - test_accuracy: 0.9507\n",
            "Epoch 86/100\n",
            "560/560 [==============================] - 4s 7ms/step - loss: 0.0037 - accuracy: 0.9996 - val_loss: 0.1593 - val_accuracy: 0.9598 - test_accuracy: 0.9618\n",
            "Epoch 87/100\n",
            "560/560 [==============================] - 4s 6ms/step - loss: 0.0034 - accuracy: 0.9996 - val_loss: 0.1653 - val_accuracy: 0.9594 - test_accuracy: 0.9603\n",
            "Epoch 88/100\n",
            "560/560 [==============================] - 4s 7ms/step - loss: 0.0034 - accuracy: 0.9998 - val_loss: 0.1549 - val_accuracy: 0.9603 - test_accuracy: 0.9600\n",
            "Epoch 89/100\n",
            "560/560 [==============================] - 3s 6ms/step - loss: 0.0050 - accuracy: 0.9991 - val_loss: 0.1819 - val_accuracy: 0.9553 - test_accuracy: 0.9568\n",
            "Epoch 90/100\n",
            "560/560 [==============================] - 5s 8ms/step - loss: 0.0030 - accuracy: 0.9998 - val_loss: 0.1713 - val_accuracy: 0.9536 - test_accuracy: 0.9568\n",
            "Epoch 91/100\n",
            "560/560 [==============================] - 3s 6ms/step - loss: 0.0034 - accuracy: 0.9996 - val_loss: 0.1567 - val_accuracy: 0.9603 - test_accuracy: 0.9596\n",
            "Epoch 92/100\n",
            "560/560 [==============================] - 3s 6ms/step - loss: 0.0042 - accuracy: 0.9994 - val_loss: 0.1628 - val_accuracy: 0.9576 - test_accuracy: 0.9611\n",
            "Epoch 93/100\n",
            "560/560 [==============================] - 4s 7ms/step - loss: 0.0049 - accuracy: 0.9990 - val_loss: 0.1716 - val_accuracy: 0.9562 - test_accuracy: 0.9603\n",
            "Epoch 94/100\n",
            "560/560 [==============================] - 4s 8ms/step - loss: 0.0036 - accuracy: 0.9993 - val_loss: 0.1592 - val_accuracy: 0.9607 - test_accuracy: 0.9607\n",
            "Epoch 95/100\n",
            "560/560 [==============================] - 3s 6ms/step - loss: 0.0031 - accuracy: 0.9994 - val_loss: 0.1623 - val_accuracy: 0.9611 - test_accuracy: 0.9603\n",
            "Epoch 96/100\n",
            "560/560 [==============================] - 3s 6ms/step - loss: 0.0019 - accuracy: 0.9999 - val_loss: 0.1605 - val_accuracy: 0.9616 - test_accuracy: 0.9611\n",
            "Epoch 97/100\n",
            "560/560 [==============================] - 4s 8ms/step - loss: 0.0050 - accuracy: 0.9989 - val_loss: 0.1725 - val_accuracy: 0.9549 - test_accuracy: 0.9607\n",
            "Epoch 98/100\n",
            "560/560 [==============================] - 4s 7ms/step - loss: 0.0043 - accuracy: 0.9991 - val_loss: 0.1613 - val_accuracy: 0.9620 - test_accuracy: 0.9600\n",
            "Epoch 99/100\n",
            "560/560 [==============================] - 4s 7ms/step - loss: 0.0032 - accuracy: 0.9994 - val_loss: 0.1598 - val_accuracy: 0.9611 - test_accuracy: 0.9603\n",
            "Epoch 100/100\n",
            "560/560 [==============================] - 4s 7ms/step - loss: 0.0038 - accuracy: 0.9992 - val_loss: 0.1732 - val_accuracy: 0.9576 - test_accuracy: 0.9596\n"
          ]
        },
        {
          "output_type": "display_data",
          "data": {
            "text/plain": [
              "<Figure size 432x288 with 2 Axes>"
            ],
            "image/png": "[encoded data removed]"
          },
          "metadata": {
            "needs_background": "light"
          }
        },
        {
          "output_type": "stream",
          "name": "stdout",
          "text": [
            "88/88 [==============================] - 0s 3ms/step - loss: 0.1851 - accuracy: 0.9596\n",
            "\n",
            "Test loss: 0.18510212004184723, test accuracy: 95.96284627914429\n",
            "(44, 13, 1)\n",
            "88/88 [==============================] - 0s 2ms/step\n"
          ]
        },
        {
          "output_type": "display_data",
          "data": {
            "text/plain": [
              "<Figure size 720x504 with 2 Axes>"
            ],
            "image/png": "[encoded data removed]"
          },
          "metadata": {
            "needs_background": "light"
          }
        }
      ]
    }
  ],
  "metadata": {
    "colab": {
      "provenance": []
    },
    "kernelspec": {
      "display_name": "Python 3",
      "name": "python3"
    },
    "language_info": {
      "name": "python"
    },
    "accelerator": "GPU",
    "gpuClass": "standard"
  },
  "nbformat": 4,
  "nbformat_minor": 0
}